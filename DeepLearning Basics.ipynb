{
 "cells": [
  {
   "cell_type": "markdown",
   "metadata": {},
   "source": [
    "# normally we want model with earlystopping, tensorboard, checkpoints\n",
    "1. training set labbeled with classes\n",
    "2. test set labbeld with classes\n",
    "3. no of training examples\n",
    "4. no of testing examples\n",
    "5. height and width for each data\n",
    "6. size of each image or video or skeleton\n",
    "7. flatten the input\n",
    "8. Standardize/Normalize the data\n",
    "9. initialize model parameters\n",
    "10. learn parameters for the model by minimizing the cost\n",
    "11. use the learned parameters to make predictions (on test set)\n",
    "12. Analyse results and conclude\n",
    "\n",
    "## Steps dor building a neural Network\n",
    "\n",
    "1. Define the model structure ( no of input features )\n",
    "2. Initialize the model parameters\n",
    "3. Loop:  \n",
    "    - Calculate current loss (forward propagation)\n",
    "    - Calculate current gradient (backward propagation)\n",
    "    - Update parameters (gradient descent)\n",
    "    \n",
    "You often build 1-3 separately and integrate them into one function we call `model()`.\n",
    "\n",
    "* with some no of iterations\n",
    "* You get train accuracy \n",
    "* You get test accuracy \n",
    "* plot learning rate through cost values and no of iterations"
   ]
  },
  {
   "cell_type": "code",
   "execution_count": 1,
   "metadata": {},
   "outputs": [],
   "source": [
    "# Load the TensorBoard notebook extension\n",
    "%load_ext tensorboard"
   ]
  },
  {
   "cell_type": "code",
   "execution_count": 2,
   "metadata": {},
   "outputs": [
    {
     "name": "stdout",
     "output_type": "stream",
     "text": [
      "2.3.0\n"
     ]
    }
   ],
   "source": [
    "import pathlib\n",
    "\n",
    "import matplotlib.pyplot as plt\n",
    "import numpy as np\n",
    "import pandas as pd\n",
    "import seaborn as sns\n",
    "\n",
    "import tensorflow as tf\n",
    "from tensorflow import keras\n",
    "from tensorflow.keras.callbacks import EarlyStopping\n",
    "import datetime\n",
    "\n",
    "import tensorflow_docs as tfdocs\n",
    "import tensorflow_docs.plots\n",
    "import tensorflow_docs.modeling\n",
    "\n",
    "print(tf.__version__)"
   ]
  },
  {
   "cell_type": "code",
   "execution_count": 3,
   "metadata": {},
   "outputs": [],
   "source": [
    "# Clear any logs from previous runs\n",
    "!rm -rf ./logs/"
   ]
  },
  {
   "cell_type": "code",
   "execution_count": 4,
   "metadata": {},
   "outputs": [],
   "source": [
    "#set callbacks, custom learning rate scheduler\n",
    "# early stopping\n",
    "earlystop_callback = EarlyStopping(\n",
    "  monitor='val_accuracy', min_delta=0.0001,\n",
    "  patience=1)\n",
    "\n",
    "\n",
    "# tensorboards\n",
    "log_dir = \"logs/fit/\" + datetime.datetime.now().strftime(\"%Y%m%d-%H%M%S\")\n",
    "tensorboard_callback = tf.keras.callbacks.TensorBoard(\n",
    "    log_dir=log_dir, \n",
    "    histogram_freq=1\n",
    ")"
   ]
  },
  {
   "cell_type": "code",
   "execution_count": 5,
   "metadata": {},
   "outputs": [],
   "source": [
    "# load dataset\n",
    "mnist = tf.keras.datasets.mnist\n",
    "\n",
    "(x_train, y_train), (x_test, y_test) = mnist.load_data()\n",
    "x_train, x_test = x_train / 255.0, x_test / 255.0"
   ]
  },
  {
   "cell_type": "code",
   "execution_count": 6,
   "metadata": {},
   "outputs": [
    {
     "data": {
      "text/plain": [
       "((60000, 28, 28), (60000,), (10000, 28, 28), (10000,))"
      ]
     },
     "execution_count": 6,
     "metadata": {},
     "output_type": "execute_result"
    }
   ],
   "source": [
    "x_train.shape,y_train.shape,x_test.shape,y_test.shape"
   ]
  },
  {
   "cell_type": "code",
   "execution_count": 7,
   "metadata": {},
   "outputs": [],
   "source": [
    "def build_model(opt,l,metric):\n",
    "    \n",
    "    model =  keras.Sequential([\n",
    "        tf.keras.layers.Flatten(input_shape=(28, 28)),\n",
    "        tf.keras.layers.Dense(512, activation='relu'),\n",
    "        tf.keras.layers.Dropout(0.2),\n",
    "        tf.keras.layers.Dense(10, activation='softmax')\n",
    "    ])\n",
    "    \n",
    "    #optimizer = tf.keras.optimizers.RMSprop(0.001)\n",
    "    \n",
    "    model.compile(optimizer=opt,\n",
    "              loss=l,\n",
    "              metrics=[metric])\n",
    "    print(model.summary())\n",
    "    return model   "
   ]
  },
  {
   "cell_type": "code",
   "execution_count": 8,
   "metadata": {},
   "outputs": [
    {
     "name": "stdout",
     "output_type": "stream",
     "text": [
      "Model: \"sequential\"\n",
      "_________________________________________________________________\n",
      "Layer (type)                 Output Shape              Param #   \n",
      "=================================================================\n",
      "flatten (Flatten)            (None, 784)               0         \n",
      "_________________________________________________________________\n",
      "dense (Dense)                (None, 512)               401920    \n",
      "_________________________________________________________________\n",
      "dropout (Dropout)            (None, 512)               0         \n",
      "_________________________________________________________________\n",
      "dense_1 (Dense)              (None, 10)                5130      \n",
      "=================================================================\n",
      "Total params: 407,050\n",
      "Trainable params: 407,050\n",
      "Non-trainable params: 0\n",
      "_________________________________________________________________\n",
      "None\n"
     ]
    }
   ],
   "source": [
    "model = build_model('adam','sparse_categorical_crossentropy','accuracy')"
   ]
  },
  {
   "cell_type": "code",
   "execution_count": 9,
   "metadata": {},
   "outputs": [
    {
     "name": "stdout",
     "output_type": "stream",
     "text": [
      "Epoch 1/10\n",
      "WARNING:tensorflow:From /home/mbs/anaconda3/lib/python3.8/site-packages/tensorflow/python/ops/summary_ops_v2.py:1277: stop (from tensorflow.python.eager.profiler) is deprecated and will be removed after 2020-07-01.\n",
      "Instructions for updating:\n",
      "use `tf.profiler.experimental.stop` instead.\n",
      "WARNING:tensorflow:Callbacks method `on_train_batch_end` is slow compared to the batch time (batch time: 0.0019s vs `on_train_batch_end` time: 0.0047s). Check your callbacks.\n",
      "\n",
      "Epoch: 0, accuracy:0.9282,  loss:0.2420,  val_accuracy:0.9629,  val_loss:0.1198,  \n",
      ".1500/1500 - 3s - loss: 0.2420 - accuracy: 0.9282 - val_loss: 0.1198 - val_accuracy: 0.9629\n",
      "Epoch 2/10\n",
      ".1500/1500 - 2s - loss: 0.1068 - accuracy: 0.9669 - val_loss: 0.0894 - val_accuracy: 0.9729\n",
      "Epoch 3/10\n",
      ".1500/1500 - 2s - loss: 0.0733 - accuracy: 0.9765 - val_loss: 0.0802 - val_accuracy: 0.9758\n",
      "Epoch 4/10\n",
      ".1500/1500 - 2s - loss: 0.0562 - accuracy: 0.9821 - val_loss: 0.0791 - val_accuracy: 0.9768\n",
      "Epoch 5/10\n",
      ".1500/1500 - 2s - loss: 0.0453 - accuracy: 0.9851 - val_loss: 0.0739 - val_accuracy: 0.9784\n",
      "Epoch 6/10\n",
      ".1500/1500 - 2s - loss: 0.0376 - accuracy: 0.9876 - val_loss: 0.0799 - val_accuracy: 0.9783\n",
      "Epoch 7/10\n",
      ".1500/1500 - 2s - loss: 0.0308 - accuracy: 0.9892 - val_loss: 0.0811 - val_accuracy: 0.9781\n",
      "Epoch 8/10\n",
      ".1500/1500 - 2s - loss: 0.0258 - accuracy: 0.9910 - val_loss: 0.0816 - val_accuracy: 0.9793\n",
      "Epoch 9/10\n",
      ".1500/1500 - 2s - loss: 0.0260 - accuracy: 0.9911 - val_loss: 0.0901 - val_accuracy: 0.9785\n",
      "Epoch 10/10\n",
      ".1500/1500 - 2s - loss: 0.0209 - accuracy: 0.9929 - val_loss: 0.0881 - val_accuracy: 0.9813\n"
     ]
    }
   ],
   "source": [
    "history = model.fit(x=x_train, \n",
    "          y=y_train, \n",
    "          epochs=10, \n",
    "          validation_data=(x_test, y_test),\n",
    "          validation_freq=1,\n",
    "          verbose=2,\n",
    "          validation_split = 0.2,\n",
    "          callbacks=[tensorboard_callback,tfdocs.modeling.EpochDots()])"
   ]
  },
  {
   "cell_type": "code",
   "execution_count": 10,
   "metadata": {},
   "outputs": [
    {
     "data": {
      "text/html": [
       "<div>\n",
       "<style scoped>\n",
       "    .dataframe tbody tr th:only-of-type {\n",
       "        vertical-align: middle;\n",
       "    }\n",
       "\n",
       "    .dataframe tbody tr th {\n",
       "        vertical-align: top;\n",
       "    }\n",
       "\n",
       "    .dataframe thead th {\n",
       "        text-align: right;\n",
       "    }\n",
       "</style>\n",
       "<table border=\"1\" class=\"dataframe\">\n",
       "  <thead>\n",
       "    <tr style=\"text-align: right;\">\n",
       "      <th></th>\n",
       "      <th>loss</th>\n",
       "      <th>accuracy</th>\n",
       "      <th>val_loss</th>\n",
       "      <th>val_accuracy</th>\n",
       "      <th>epoch</th>\n",
       "    </tr>\n",
       "  </thead>\n",
       "  <tbody>\n",
       "    <tr>\n",
       "      <th>5</th>\n",
       "      <td>0.037552</td>\n",
       "      <td>0.987646</td>\n",
       "      <td>0.079863</td>\n",
       "      <td>0.978250</td>\n",
       "      <td>5</td>\n",
       "    </tr>\n",
       "    <tr>\n",
       "      <th>6</th>\n",
       "      <td>0.030785</td>\n",
       "      <td>0.989187</td>\n",
       "      <td>0.081063</td>\n",
       "      <td>0.978083</td>\n",
       "      <td>6</td>\n",
       "    </tr>\n",
       "    <tr>\n",
       "      <th>7</th>\n",
       "      <td>0.025847</td>\n",
       "      <td>0.991042</td>\n",
       "      <td>0.081646</td>\n",
       "      <td>0.979250</td>\n",
       "      <td>7</td>\n",
       "    </tr>\n",
       "    <tr>\n",
       "      <th>8</th>\n",
       "      <td>0.025977</td>\n",
       "      <td>0.991083</td>\n",
       "      <td>0.090111</td>\n",
       "      <td>0.978500</td>\n",
       "      <td>8</td>\n",
       "    </tr>\n",
       "    <tr>\n",
       "      <th>9</th>\n",
       "      <td>0.020944</td>\n",
       "      <td>0.992896</td>\n",
       "      <td>0.088053</td>\n",
       "      <td>0.981333</td>\n",
       "      <td>9</td>\n",
       "    </tr>\n",
       "  </tbody>\n",
       "</table>\n",
       "</div>"
      ],
      "text/plain": [
       "       loss  accuracy  val_loss  val_accuracy  epoch\n",
       "5  0.037552  0.987646  0.079863      0.978250      5\n",
       "6  0.030785  0.989187  0.081063      0.978083      6\n",
       "7  0.025847  0.991042  0.081646      0.979250      7\n",
       "8  0.025977  0.991083  0.090111      0.978500      8\n",
       "9  0.020944  0.992896  0.088053      0.981333      9"
      ]
     },
     "execution_count": 10,
     "metadata": {},
     "output_type": "execute_result"
    }
   ],
   "source": [
    "hist = pd.DataFrame(history.history)\n",
    "hist['epoch'] = history.epoch\n",
    "hist.tail()"
   ]
  },
  {
   "cell_type": "code",
   "execution_count": 11,
   "metadata": {},
   "outputs": [
    {
     "data": {
      "text/plain": [
       "<Figure size 432x288 with 0 Axes>"
      ]
     },
     "metadata": {},
     "output_type": "display_data"
    },
    {
     "data": {
      "image/png": "[encoded data removed]",
      "text/plain": [
       "<Figure size 432x288 with 1 Axes>"
      ]
     },
     "metadata": {
      "needs_background": "light"
     },
     "output_type": "display_data"
    }
   ],
   "source": [
    "# Visualization\n",
    "import matplotlib.pyplot as plt\n",
    "\n",
    "plt.figure()\n",
    "fig, ax = plt.subplots()\n",
    "\n",
    "plt.title('Model Accuracy')\n",
    "\n",
    "ax.plot(hist['epoch'],hist['accuracy'],'g-',label='accuracy')\n",
    "plt.xlabel('epoch')\n",
    "plt.legend('train')\n",
    "ax.plot(hist['epoch'],hist['val_accuracy'],'r-',label='val_accuracy')\n",
    "plt.ylabel('accuracy')\n",
    "plt.legend('test')\n",
    "plt.xlabel('epoch')\n",
    "leg = ax.legend();\n",
    "plt.grid(True)\n",
    "plt.show()"
   ]
  },
  {
   "cell_type": "code",
   "execution_count": 12,
   "metadata": {},
   "outputs": [
    {
     "name": "stdout",
     "output_type": "stream",
     "text": [
      "313/313 [==============================] - 0s 906us/step - loss: 0.0694 - accuracy: 0.9832\n"
     ]
    }
   ],
   "source": [
    "score = model.evaluate(x_test,  y_test, verbose=1)"
   ]
  },
  {
   "cell_type": "code",
   "execution_count": 13,
   "metadata": {},
   "outputs": [],
   "source": [
    "pred = model.predict(x_test)"
   ]
  },
  {
   "cell_type": "code",
   "execution_count": 14,
   "metadata": {},
   "outputs": [
    {
     "data": {
      "text/plain": [
       "((10000, 10), (10000,))"
      ]
     },
     "execution_count": 14,
     "metadata": {},
     "output_type": "execute_result"
    }
   ],
   "source": [
    "pred.shape,y_test.shape"
   ]
  },
  {
   "cell_type": "code",
   "execution_count": 19,
   "metadata": {},
   "outputs": [
    {
     "name": "stdout",
     "output_type": "stream",
     "text": [
      "[7, 2, 1, 0, 4, 1, 4, 9, 5, 9, 0, 6, 9, 0, 1, 5, 9, 7, 8, 4, 9, 6, 6, 5, 4]\n",
      "[7, 2, 1, 0, 4, 1, 4, 9, 5, 9, 0, 6, 9, 0, 1, 5, 9, 7, 3, 4, 9, 6, 6, 5, 4]\n"
     ]
    }
   ],
   "source": [
    "p = []\n",
    "label = []\n",
    "for i in range(25):\n",
    "    p.append(np.argmax(pred[i]))\n",
    "    label.append(y_test[i])\n",
    "\n",
    "print(p) \n",
    "print(label)"
   ]
  },
  {
   "cell_type": "code",
   "execution_count": 20,
   "metadata": {},
   "outputs": [
    {
     "data": {
      "text/plain": [
       "array([[3, 0, 0, 0, 0, 0, 0, 0, 0, 0],\n",
       "       [0, 3, 0, 0, 0, 0, 0, 0, 0, 0],\n",
       "       [0, 0, 1, 0, 0, 0, 0, 0, 0, 0],\n",
       "       [0, 0, 0, 0, 0, 0, 0, 0, 0, 0],\n",
       "       [0, 0, 0, 0, 4, 0, 0, 0, 0, 0],\n",
       "       [0, 0, 0, 0, 0, 3, 0, 0, 0, 0],\n",
       "       [0, 0, 0, 0, 0, 0, 3, 0, 0, 0],\n",
       "       [0, 0, 0, 0, 0, 0, 0, 2, 0, 0],\n",
       "       [0, 0, 0, 1, 0, 0, 0, 0, 0, 0],\n",
       "       [0, 0, 0, 0, 0, 0, 0, 0, 0, 5]])"
      ]
     },
     "execution_count": 20,
     "metadata": {},
     "output_type": "execute_result"
    }
   ],
   "source": [
    "from sklearn.metrics import confusion_matrix\n",
    "\n",
    "confusion_matrix(p,label)"
   ]
  }
 ],
 "metadata": {
  "kernelspec": {
   "display_name": "Python 3",
   "language": "python",
   "name": "python3"
  },
  "language_info": {
   "codemirror_mode": {
    "name": "ipython",
    "version": 3
   },
   "file_extension": ".py",
   "mimetype": "text/x-python",
   "name": "python",
   "nbconvert_exporter": "python",
   "pygments_lexer": "ipython3",
   "version": "3.8.3"
  }
 },
 "nbformat": 4,
 "nbformat_minor": 4
}
