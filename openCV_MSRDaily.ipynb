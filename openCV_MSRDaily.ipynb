{
 "cells": [
  {
   "cell_type": "code",
   "execution_count": 4,
   "metadata": {},
   "outputs": [],
   "source": [
    "import numpy as np\n",
    "import cv2\n",
    "# loading resource video\n",
    "#cap = cv2.VideoCapture('/content/a01_s01_e01_rgb.avi')\n",
    "cap = cv2.VideoCapture('/content/photo.png')"
   ]
  },
  {
   "cell_type": "code",
   "execution_count": 13,
   "metadata": {},
   "outputs": [
    {
     "name": "stdout",
     "output_type": "stream",
     "text": [
      "\u001b[0m\u001b[01;35ma01_s01_e01_rgb.avi\u001b[0m  \u001b[01;35ma01_s08_e01_rgb.avi\u001b[0m  \u001b[01;35ma02_s05_e01_rgb.avi\u001b[0m\r\n",
      "\u001b[01;35ma01_s01_e02_rgb.avi\u001b[0m  \u001b[01;35ma01_s08_e02_rgb.avi\u001b[0m  \u001b[01;35ma02_s05_e02_rgb.avi\u001b[0m\r\n",
      "\u001b[01;35ma01_s02_e01_rgb.avi\u001b[0m  \u001b[01;35ma01_s09_e01_rgb.avi\u001b[0m  \u001b[01;35ma02_s06_e01_rgb.avi\u001b[0m\r\n",
      "\u001b[01;35ma01_s02_e02_rgb.avi\u001b[0m  \u001b[01;35ma01_s09_e02_rgb.avi\u001b[0m  \u001b[01;35ma02_s06_e02_rgb.avi\u001b[0m\r\n",
      "\u001b[01;35ma01_s03_e01_rgb.avi\u001b[0m  \u001b[01;35ma01_s10_e01_rgb.avi\u001b[0m  \u001b[01;35ma02_s07_e01_rgb.avi\u001b[0m\r\n",
      "\u001b[01;35ma01_s03_e02_rgb.avi\u001b[0m  \u001b[01;35ma01_s10_e02_rgb.avi\u001b[0m  \u001b[01;35ma02_s07_e02_rgb.avi\u001b[0m\r\n",
      "\u001b[01;35ma01_s04_e01_rgb.avi\u001b[0m  \u001b[01;35ma02_s01_e01_rgb.avi\u001b[0m  \u001b[01;35ma02_s08_e01_rgb.avi\u001b[0m\r\n",
      "\u001b[01;35ma01_s04_e02_rgb.avi\u001b[0m  \u001b[01;35ma02_s01_e02_rgb.avi\u001b[0m  \u001b[01;35ma02_s08_e02_rgb.avi\u001b[0m\r\n",
      "\u001b[01;35ma01_s05_e01_rgb.avi\u001b[0m  \u001b[01;35ma02_s02_e01_rgb.avi\u001b[0m  \u001b[01;35ma02_s09_e01_rgb.avi\u001b[0m\r\n",
      "\u001b[01;35ma01_s05_e02_rgb.avi\u001b[0m  \u001b[01;35ma02_s02_e02_rgb.avi\u001b[0m  \u001b[01;35ma02_s09_e02_rgb.avi\u001b[0m\r\n",
      "\u001b[01;35ma01_s06_e01_rgb.avi\u001b[0m  \u001b[01;35ma02_s03_e01_rgb.avi\u001b[0m  \u001b[01;35ma02_s10_e01_rgb.avi\u001b[0m\r\n",
      "\u001b[01;35ma01_s06_e02_rgb.avi\u001b[0m  \u001b[01;35ma02_s03_e02_rgb.avi\u001b[0m  \u001b[01;35ma02_s10_e02_rgb.avi\u001b[0m\r\n",
      "\u001b[01;35ma01_s07_e01_rgb.avi\u001b[0m  \u001b[01;35ma02_s04_e01_rgb.avi\u001b[0m\r\n",
      "\u001b[01;35ma01_s07_e02_rgb.avi\u001b[0m  \u001b[01;35ma02_s04_e02_rgb.avi\u001b[0m\r\n"
     ]
    }
   ],
   "source": [
    "ls data/MSRDailypack1/rgb"
   ]
  },
  {
   "cell_type": "code",
   "execution_count": 1,
   "metadata": {},
   "outputs": [
    {
     "name": "stdout",
     "output_type": "stream",
     "text": [
      "Requirement already satisfied: opencv-python in ./anaconda3/lib/python3.8/site-packages (4.4.0.42)\n",
      "Requirement already satisfied: numpy>=1.17.3 in ./anaconda3/lib/python3.8/site-packages (from opencv-python) (1.18.5)\n",
      "Note: you may need to restart the kernel to use updated packages.\n"
     ]
    }
   ],
   "source": [
    "# Source : https://opencv-python-tutroals.readthedocs.io/en/latest/py_tutorials/py_gui/py_video_display/py_video_display.html\n",
    "\n",
    "import numpy as np\n",
    "import cv2\n",
    "\n",
    "# loading resource video\n",
    "cap = cv2.VideoCapture('/test/a01_s01_e02_rgb.avi')\n",
    "#cap = cv2.VideoCapture('/content/photo.jpg')\n",
    "\n",
    "\n",
    "# capturing initial frame for dense optical flow comparison\n",
    "ret, frame1 = cap.read()\n",
    "prvs = cv2.cvtColor(frame1,cv2.COLOR_BGR2GRAY)\n",
    "hsv = np.zeros_like(frame1)\n",
    "hsv[...,1] = 255\n",
    "\n",
    "counter = 0\n",
    "\n",
    "# params for ShiTomasi corner detection\n",
    "feature_params = dict( maxCorners = 100,\n",
    "                       qualityLevel = 0.3,\n",
    "                       minDistance = 7,\n",
    "                       blockSize = 7 )\n",
    "\n",
    "# Parameters for lucas kanade optical flow\n",
    "lk_params = dict( winSize  = (15,15),\n",
    "                  maxLevel = 2,\n",
    "                  criteria = (cv2.TERM_CRITERIA_EPS | cv2.TERM_CRITERIA_COUNT, 10, 0.03))\n",
    "\n",
    "# Create some random colors\n",
    "color = np.random.randint(0,255,(100,3))\n",
    "\n",
    "# Take first frame and find corners in it\n",
    "ret, old_frame = cap.read()\n",
    "old_gray = cv2.cvtColor(old_frame, cv2.COLOR_BGR2GRAY)\n",
    "p0 = cv2.goodFeaturesToTrack(old_gray, mask = None, **feature_params)\n",
    "\n",
    "# Create a mask image for drawing purposes\n",
    "mask = np.zeros_like(old_frame)\n",
    "\n",
    "count =0 \n",
    "# loop while there is a frame\n",
    "while(cap.isOpened()):\n",
    "    \n",
    "    # dense OF start\n",
    "    \n",
    "    \n",
    "    # dense OF End\n",
    "\n",
    "    #return the next video frame\n",
    "    ret, frame = cap.read()\n",
    "\n",
    "    # convert the color frame to Gray\n",
    "    frame_gray = cv2.cvtColor(frame, cv2.COLOR_BGR2GRAY)\n",
    "\n",
    "    # calculate optical flow Lukas Kanade\n",
    "    p1, st, err = cv2.calcOpticalFlowPyrLK(old_gray, frame_gray, p0, None, **lk_params)\n",
    "\n",
    "    # Select good points\n",
    "    good_new = p1[st==1]\n",
    "    good_old = p0[st==1]\n",
    "\n",
    "# draw the tracks\n",
    "    for i,(new,old) in enumerate(zip(good_new,good_old)):\n",
    "        a,b = new.ravel()\n",
    "        c,d = old.ravel()\n",
    "        mask = cv2.line(mask, (a,b),(c,d), color[i].tolist(), 2)\n",
    "        frame = cv2.circle(frame,(a,b),5,color[i].tolist(),-1)\n",
    "    img = cv2.add(frame,mask)\n",
    "\n",
    "    # colab opencv code for showing a image/ frame\n",
    "    # cv2_imshow(frame_gray)\n",
    "    #cv2_imshow(img)\n",
    "    print(i)\n",
    "    cv2.imwrite(\"/vdo2frames/\"+\"image\"+str(count)+\".jpg\", img)     # save frame as JPG file\n",
    "    count= count+1\n",
    "    #if cv2.waitKey(1) & 0xFF == ord('q'):\n",
    "    #    break\n",
    "    k = cv2.waitKey(30) & 0xff \n",
    "    if k == 27:\n",
    "        break\n",
    "\n",
    "    # Now update the previous frame and previous points\n",
    "    old_gray = frame_gray.copy()\n",
    "    p0 = good_new.reshape(-1,1,2)\n",
    "\n",
    "cap.release()\n",
    "cv2.destroyAllWindows()\n",
    "\n",
    "# 7 frames in total"
   ]
  }
 ],
 "metadata": {
  "kernelspec": {
   "display_name": "Python 3",
   "language": "python",
   "name": "python3"
  },
  "language_info": {
   "codemirror_mode": {
    "name": "ipython",
    "version": 3
   },
   "file_extension": ".py",
   "mimetype": "text/x-python",
   "name": "python",
   "nbconvert_exporter": "python",
   "pygments_lexer": "ipython3",
   "version": "3.8.3"
  }
 },
 "nbformat": 4,
 "nbformat_minor": 4
}
